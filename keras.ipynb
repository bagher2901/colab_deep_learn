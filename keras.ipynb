{
  "nbformat": 4,
  "nbformat_minor": 0,
  "metadata": {
    "colab": {
      "provenance": [],
      "authorship_tag": "ABX9TyOqrNMoCedrRbILLItbg3Fr",
      "include_colab_link": true
    },
    "kernelspec": {
      "name": "python3",
      "display_name": "Python 3"
    },
    "language_info": {
      "name": "python"
    }
  },
  "cells": [
    {
      "cell_type": "markdown",
      "metadata": {
        "id": "view-in-github",
        "colab_type": "text"
      },
      "source": [
        "<a href=\"https://colab.research.google.com/github/bagher2901/colab_deep_learn/blob/main/keras.ipynb\" target=\"_parent\"><img src=\"https://colab.research.google.com/assets/colab-badge.svg\" alt=\"Open In Colab\"/></a>"
      ]
    },
    {
      "cell_type": "markdown",
      "source": [
        "# classification"
      ],
      "metadata": {
        "id": "bZBrMPhpYeKd"
      }
    },
    {
      "cell_type": "code",
      "execution_count": 1,
      "metadata": {
        "id": "YWjRLo2jZ6Fj"
      },
      "outputs": [],
      "source": [
        "import tensorflow as tf\n",
        "from tensorflow import keras\n",
        "from tensorflow.keras import layers"
      ]
    },
    {
      "cell_type": "code",
      "source": [
        "tf.__version__"
      ],
      "metadata": {
        "colab": {
          "base_uri": "https://localhost:8080/",
          "height": 36
        },
        "id": "SHquoIEqaS6U",
        "outputId": "a79a4c9f-fb28-4d23-e993-3a3116daa496"
      },
      "execution_count": 2,
      "outputs": [
        {
          "output_type": "execute_result",
          "data": {
            "text/plain": [
              "'2.11.0'"
            ],
            "application/vnd.google.colaboratory.intrinsic+json": {
              "type": "string"
            }
          },
          "metadata": {},
          "execution_count": 2
        }
      ]
    },
    {
      "cell_type": "code",
      "source": [],
      "metadata": {
        "id": "ltdx2M1EYlPh"
      },
      "execution_count": null,
      "outputs": []
    },
    {
      "cell_type": "code",
      "source": [
        "keras.__version__"
      ],
      "metadata": {
        "colab": {
          "base_uri": "https://localhost:8080/",
          "height": 36
        },
        "id": "Rwt1JbKSacb7",
        "outputId": "50e8b8f3-adce-4bc3-d348-ab8c2fab67c2"
      },
      "execution_count": 3,
      "outputs": [
        {
          "output_type": "execute_result",
          "data": {
            "text/plain": [
              "'2.11.0'"
            ],
            "application/vnd.google.colaboratory.intrinsic+json": {
              "type": "string"
            }
          },
          "metadata": {},
          "execution_count": 3
        }
      ]
    },
    {
      "cell_type": "code",
      "source": [
        "fmnist_data = keras.datasets.fashion_mnist"
      ],
      "metadata": {
        "id": "JA24P67TcMkL"
      },
      "execution_count": 4,
      "outputs": []
    },
    {
      "cell_type": "code",
      "source": [
        "(x_train, y_train), (x_test, y_test) = fmnist_data.load_data()"
      ],
      "metadata": {
        "id": "huL0WmLzeFZ8"
      },
      "execution_count": 5,
      "outputs": []
    },
    {
      "cell_type": "code",
      "source": [
        "x_train.shape"
      ],
      "metadata": {
        "colab": {
          "base_uri": "https://localhost:8080/"
        },
        "id": "pvVjONWOefJ4",
        "outputId": "12298235-90a9-4052-a4b6-d0660101c428"
      },
      "execution_count": 6,
      "outputs": [
        {
          "output_type": "execute_result",
          "data": {
            "text/plain": [
              "(60000, 28, 28)"
            ]
          },
          "metadata": {},
          "execution_count": 6
        }
      ]
    },
    {
      "cell_type": "code",
      "source": [
        "y_train[:100]"
      ],
      "metadata": {
        "colab": {
          "base_uri": "https://localhost:8080/"
        },
        "id": "klFW2vwkejds",
        "outputId": "66ddbafe-13f6-4b04-9152-9b7b8392f279"
      },
      "execution_count": 7,
      "outputs": [
        {
          "output_type": "execute_result",
          "data": {
            "text/plain": [
              "array([9, 0, 0, 3, 0, 2, 7, 2, 5, 5, 0, 9, 5, 5, 7, 9, 1, 0, 6, 4, 3, 1,\n",
              "       4, 8, 4, 3, 0, 2, 4, 4, 5, 3, 6, 6, 0, 8, 5, 2, 1, 6, 6, 7, 9, 5,\n",
              "       9, 2, 7, 3, 0, 3, 3, 3, 7, 2, 2, 6, 6, 8, 3, 3, 5, 0, 5, 5, 0, 2,\n",
              "       0, 0, 4, 1, 3, 1, 6, 3, 1, 4, 4, 6, 1, 9, 1, 3, 5, 7, 9, 7, 1, 7,\n",
              "       9, 9, 9, 3, 2, 9, 3, 6, 4, 1, 1, 8], dtype=uint8)"
            ]
          },
          "metadata": {},
          "execution_count": 7
        }
      ]
    },
    {
      "cell_type": "code",
      "source": [
        "x_train[1]"
      ],
      "metadata": {
        "colab": {
          "base_uri": "https://localhost:8080/"
        },
        "id": "LYZIwkpuesqd",
        "outputId": "81660ce9-3581-4045-d91d-97404daf25e7"
      },
      "execution_count": 8,
      "outputs": [
        {
          "output_type": "execute_result",
          "data": {
            "text/plain": [
              "array([[  0,   0,   0,   0,   0,   1,   0,   0,   0,   0,  41, 188, 103,\n",
              "         54,  48,  43,  87, 168, 133,  16,   0,   0,   0,   0,   0,   0,\n",
              "          0,   0],\n",
              "       [  0,   0,   0,   1,   0,   0,   0,  49, 136, 219, 216, 228, 236,\n",
              "        255, 255, 255, 255, 217, 215, 254, 231, 160,  45,   0,   0,   0,\n",
              "          0,   0],\n",
              "       [  0,   0,   0,   0,   0,  14, 176, 222, 224, 212, 203, 198, 196,\n",
              "        200, 215, 204, 202, 201, 201, 201, 209, 218, 224, 164,   0,   0,\n",
              "          0,   0],\n",
              "       [  0,   0,   0,   0,   0, 188, 219, 200, 198, 202, 198, 199, 199,\n",
              "        201, 196, 198, 198, 200, 200, 200, 200, 201, 200, 225,  41,   0,\n",
              "          0,   0],\n",
              "       [  0,   0,   0,   0,  51, 219, 199, 203, 203, 212, 238, 248, 250,\n",
              "        245, 249, 246, 247, 252, 248, 235, 207, 203, 203, 222, 140,   0,\n",
              "          0,   0],\n",
              "       [  0,   0,   0,   0, 116, 226, 206, 204, 207, 204, 101,  75,  47,\n",
              "         73,  48,  50,  45,  51,  63, 113, 222, 202, 206, 220, 224,   0,\n",
              "          0,   0],\n",
              "       [  0,   0,   0,   0, 200, 222, 209, 203, 215, 200,   0,  70,  98,\n",
              "          0, 103,  59,  68,  71,  49,   0, 219, 206, 214, 210, 250,  38,\n",
              "          0,   0],\n",
              "       [  0,   0,   0,   0, 247, 218, 212, 210, 215, 214,   0, 254, 243,\n",
              "        139, 255, 174, 251, 255, 205,   0, 215, 217, 214, 208, 220,  95,\n",
              "          0,   0],\n",
              "       [  0,   0,   0,  45, 226, 214, 214, 215, 224, 205,   0,  42,  35,\n",
              "         60,  16,  17,  12,  13,  70,   0, 189, 216, 212, 206, 212, 156,\n",
              "          0,   0],\n",
              "       [  0,   0,   0, 164, 235, 214, 211, 220, 216, 201,  52,  71,  89,\n",
              "         94,  83,  78,  70,  76,  92,  87, 206, 207, 222, 213, 219, 208,\n",
              "          0,   0],\n",
              "       [  0,   0,   0, 106, 187, 223, 237, 248, 211, 198, 252, 250, 248,\n",
              "        245, 248, 252, 253, 250, 252, 239, 201, 212, 225, 215, 193, 113,\n",
              "          0,   0],\n",
              "       [  0,   0,   0,   0,   0,  17,  54, 159, 222, 193, 208, 192, 197,\n",
              "        200, 200, 200, 200, 201, 203, 195, 210, 165,   0,   0,   0,   0,\n",
              "          0,   0],\n",
              "       [  0,   0,   0,   0,   0,   0,   0,  47, 225, 192, 214, 203, 206,\n",
              "        204, 204, 205, 206, 204, 212, 197, 218, 107,   0,   0,   0,   0,\n",
              "          0,   0],\n",
              "       [  0,   0,   0,   0,   1,   6,   0,  46, 212, 195, 212, 202, 206,\n",
              "        205, 204, 205, 206, 204, 212, 200, 218,  91,   0,   3,   1,   0,\n",
              "          0,   0],\n",
              "       [  0,   0,   0,   0,   0,   1,   0,  11, 197, 199, 205, 202, 205,\n",
              "        206, 204, 205, 207, 204, 205, 205, 218,  77,   0,   5,   0,   0,\n",
              "          0,   0],\n",
              "       [  0,   0,   0,   0,   0,   3,   0,   2, 191, 198, 201, 205, 206,\n",
              "        205, 205, 206, 209, 206, 199, 209, 219,  74,   0,   5,   0,   0,\n",
              "          0,   0],\n",
              "       [  0,   0,   0,   0,   0,   2,   0,   0, 188, 197, 200, 207, 207,\n",
              "        204, 207, 207, 210, 208, 198, 207, 221,  72,   0,   4,   0,   0,\n",
              "          0,   0],\n",
              "       [  0,   0,   0,   0,   0,   2,   0,   0, 215, 198, 203, 206, 208,\n",
              "        205, 207, 207, 210, 208, 200, 202, 222,  75,   0,   4,   0,   0,\n",
              "          0,   0],\n",
              "       [  0,   0,   0,   0,   0,   1,   0,   0, 212, 198, 209, 206, 209,\n",
              "        206, 208, 207, 211, 206, 205, 198, 221,  80,   0,   3,   0,   0,\n",
              "          0,   0],\n",
              "       [  0,   0,   0,   0,   0,   1,   0,   0, 204, 201, 205, 208, 207,\n",
              "        205, 211, 205, 210, 210, 209, 195, 221,  96,   0,   3,   0,   0,\n",
              "          0,   0],\n",
              "       [  0,   0,   0,   0,   0,   1,   0,   0, 202, 201, 205, 209, 207,\n",
              "        205, 213, 206, 210, 209, 210, 194, 217, 105,   0,   2,   0,   0,\n",
              "          0,   0],\n",
              "       [  0,   0,   0,   0,   0,   1,   0,   0, 204, 204, 205, 208, 207,\n",
              "        205, 215, 207, 210, 208, 211, 193, 213, 115,   0,   2,   0,   0,\n",
              "          0,   0],\n",
              "       [  0,   0,   0,   0,   0,   0,   0,   0, 204, 207, 207, 208, 206,\n",
              "        206, 215, 210, 210, 207, 212, 195, 210, 118,   0,   2,   0,   0,\n",
              "          0,   0],\n",
              "       [  0,   0,   0,   0,   0,   1,   0,   0, 198, 208, 208, 208, 204,\n",
              "        207, 212, 212, 210, 207, 211, 196, 207, 121,   0,   1,   0,   0,\n",
              "          0,   0],\n",
              "       [  0,   0,   0,   0,   0,   1,   0,   0, 198, 210, 207, 208, 206,\n",
              "        209, 213, 212, 211, 207, 210, 197, 207, 124,   0,   1,   0,   0,\n",
              "          0,   0],\n",
              "       [  0,   0,   0,   0,   0,   0,   0,   0, 172, 210, 203, 201, 199,\n",
              "        204, 207, 205, 204, 201, 205, 197, 206, 127,   0,   0,   0,   0,\n",
              "          0,   0],\n",
              "       [  0,   0,   0,   0,   0,   0,   0,   0, 188, 221, 214, 234, 236,\n",
              "        238, 244, 244, 244, 240, 243, 214, 224, 162,   0,   2,   0,   0,\n",
              "          0,   0],\n",
              "       [  0,   0,   0,   0,   0,   1,   0,   0, 139, 146, 130, 135, 135,\n",
              "        137, 125, 124, 125, 121, 119, 114, 130,  76,   0,   0,   0,   0,\n",
              "          0,   0]], dtype=uint8)"
            ]
          },
          "metadata": {},
          "execution_count": 8
        }
      ]
    },
    {
      "cell_type": "code",
      "source": [
        "import matplotlib.pyplot as plt"
      ],
      "metadata": {
        "id": "vk939uUDfCzq"
      },
      "execution_count": 9,
      "outputs": []
    },
    {
      "cell_type": "code",
      "source": [
        "plt.figure()\n",
        "plt.imshow(x_train[0])\n",
        "# plt.imshow(x_train[1], cmap=\"gray\")\n"
      ],
      "metadata": {
        "colab": {
          "base_uri": "https://localhost:8080/",
          "height": 447
        },
        "id": "uhBazN84fLWb",
        "outputId": "63ace382-a557-4e19-a873-caebe7970382"
      },
      "execution_count": 10,
      "outputs": [
        {
          "output_type": "execute_result",
          "data": {
            "text/plain": [
              "<matplotlib.image.AxesImage at 0x7fb25d13da60>"
            ]
          },
          "metadata": {},
          "execution_count": 10
        },
        {
          "output_type": "display_data",
          "data": {
            "text/plain": [
              "<Figure size 640x480 with 1 Axes>"
            ],
            "image/png": "[encoded data removed]"
          },
          "metadata": {}
        }
      ]
    },
    {
      "cell_type": "code",
      "source": [
        "x_train, x_test = x_train/255.0 , x_test/255.0\n"
      ],
      "metadata": {
        "id": "JyNbf8AigSUf"
      },
      "execution_count": 11,
      "outputs": []
    },
    {
      "cell_type": "code",
      "source": [
        "\n",
        "model = keras.models.Sequential()\n",
        "model.add(keras.layers.Flatten(input_shape=[28,28]))\n",
        "model.add(keras.layers.Dense(100,activation='relu'))\n",
        "model.add(keras.layers.Dense(75,activation='relu'))\n",
        "model.add(keras.layers.Dense(10,activation='softmax'))\n",
        "\n",
        "\n",
        "# model = keras.models.Sequential([  \n",
        "#     keras.layers.Flatten(input_shape=[28,28]),\n",
        "#     keras.layers.Dense(100,activation='relu'),\n",
        "#     keras.layers.Dense(75,activation='relu'),\n",
        "#     keras.layers.Dense(10,activation='softmax')\n",
        "# ])\n",
        "\n"
      ],
      "metadata": {
        "id": "Q40kCYcEg4SU"
      },
      "execution_count": 12,
      "outputs": []
    },
    {
      "cell_type": "code",
      "source": [
        "model.summary()"
      ],
      "metadata": {
        "id": "c__A4Z6yhE2P",
        "colab": {
          "base_uri": "https://localhost:8080/"
        },
        "outputId": "aab33c3b-6877-4ab7-b122-1151a8a1fe0b"
      },
      "execution_count": 13,
      "outputs": [
        {
          "output_type": "stream",
          "name": "stdout",
          "text": [
            "Model: \"sequential\"\n",
            "_________________________________________________________________\n",
            " Layer (type)                Output Shape              Param #   \n",
            "=================================================================\n",
            " flatten (Flatten)           (None, 784)               0         \n",
            "                                                                 \n",
            " dense (Dense)               (None, 100)               78500     \n",
            "                                                                 \n",
            " dense_1 (Dense)             (None, 75)                7575      \n",
            "                                                                 \n",
            " dense_2 (Dense)             (None, 10)                760       \n",
            "                                                                 \n",
            "=================================================================\n",
            "Total params: 86,835\n",
            "Trainable params: 86,835\n",
            "Non-trainable params: 0\n",
            "_________________________________________________________________\n"
          ]
        }
      ]
    },
    {
      "cell_type": "code",
      "source": [
        "model.layers"
      ],
      "metadata": {
        "colab": {
          "base_uri": "https://localhost:8080/"
        },
        "id": "vZWs3p7PIrbA",
        "outputId": "c24fdfd0-1179-4b9f-9d45-c180ddf088d9"
      },
      "execution_count": 14,
      "outputs": [
        {
          "output_type": "execute_result",
          "data": {
            "text/plain": [
              "[<keras.layers.reshaping.flatten.Flatten at 0x7fb257416f10>,\n",
              " <keras.layers.core.dense.Dense at 0x7fb2de0e8ee0>,\n",
              " <keras.layers.core.dense.Dense at 0x7fb25a42fd30>,\n",
              " <keras.layers.core.dense.Dense at 0x7fb25a42f670>]"
            ]
          },
          "metadata": {},
          "execution_count": 14
        }
      ]
    },
    {
      "cell_type": "code",
      "source": [
        "weights , bias = model.layers[1].get_weights()\n",
        "weights"
      ],
      "metadata": {
        "colab": {
          "base_uri": "https://localhost:8080/"
        },
        "id": "1n_zukz0KCKL",
        "outputId": "d9f215d5-fc4d-430e-f15d-bd7e48943e8f"
      },
      "execution_count": 15,
      "outputs": [
        {
          "output_type": "execute_result",
          "data": {
            "text/plain": [
              "array([[-0.05106807,  0.07254577,  0.06685224, ...,  0.07038248,\n",
              "        -0.0155249 , -0.06508557],\n",
              "       [-0.06072105, -0.04550415,  0.072037  , ..., -0.05400571,\n",
              "         0.03097597, -0.04753198],\n",
              "       [ 0.02590306,  0.01598561,  0.080458  , ..., -0.02587397,\n",
              "        -0.05707897,  0.02163112],\n",
              "       ...,\n",
              "       [-0.00087237,  0.06688099, -0.01978474, ...,  0.01920567,\n",
              "        -0.02973877, -0.04315905],\n",
              "       [ 0.01884253,  0.061318  ,  0.02605444, ...,  0.07997108,\n",
              "         0.02663534,  0.01694468],\n",
              "       [-0.02862668,  0.02434043,  0.04900418, ..., -0.06525756,\n",
              "         0.05472378,  0.01025434]], dtype=float32)"
            ]
          },
          "metadata": {},
          "execution_count": 15
        }
      ]
    },
    {
      "cell_type": "markdown",
      "source": [
        "# compile model"
      ],
      "metadata": {
        "id": "SfDZ9LEWL44n"
      }
    },
    {
      "cell_type": "code",
      "source": [
        "from keras.optimizers import optimizer_legacy\n",
        "model.compile(loss='sparse_categorical_crossentropy',optimizer='sgd',metrics=['accuracy'])"
      ],
      "metadata": {
        "id": "T80A2-OkKZoE"
      },
      "execution_count": 16,
      "outputs": []
    },
    {
      "cell_type": "markdown",
      "source": [
        "# model fit"
      ],
      "metadata": {
        "id": "diC6aJjsNhl6"
      }
    },
    {
      "cell_type": "code",
      "source": [
        "history = model.fit(x_train,y_train,epochs=10,validation_split=0.15)"
      ],
      "metadata": {
        "colab": {
          "base_uri": "https://localhost:8080/"
        },
        "id": "hoQeKeehNcG4",
        "outputId": "c19723ef-cbe6-4daa-f9ad-caff50064c42"
      },
      "execution_count": 17,
      "outputs": [
        {
          "output_type": "stream",
          "name": "stdout",
          "text": [
            "Epoch 1/10\n",
            "1594/1594 [==============================] - 17s 9ms/step - loss: 0.7971 - accuracy: 0.7354 - val_loss: 0.5616 - val_accuracy: 0.8046\n",
            "Epoch 2/10\n",
            "1594/1594 [==============================] - 10s 6ms/step - loss: 0.5142 - accuracy: 0.8223 - val_loss: 0.4947 - val_accuracy: 0.8267\n",
            "Epoch 3/10\n",
            "1594/1594 [==============================] - 7s 4ms/step - loss: 0.4639 - accuracy: 0.8370 - val_loss: 0.4614 - val_accuracy: 0.8387\n",
            "Epoch 4/10\n",
            "1594/1594 [==============================] - 5s 3ms/step - loss: 0.4350 - accuracy: 0.8473 - val_loss: 0.4334 - val_accuracy: 0.8492\n",
            "Epoch 5/10\n",
            "1594/1594 [==============================] - 6s 4ms/step - loss: 0.4151 - accuracy: 0.8545 - val_loss: 0.4386 - val_accuracy: 0.8411\n",
            "Epoch 6/10\n",
            "1594/1594 [==============================] - 5s 3ms/step - loss: 0.3977 - accuracy: 0.8594 - val_loss: 0.4035 - val_accuracy: 0.8588\n",
            "Epoch 7/10\n",
            "1594/1594 [==============================] - 6s 4ms/step - loss: 0.3840 - accuracy: 0.8641 - val_loss: 0.3973 - val_accuracy: 0.8619\n",
            "Epoch 8/10\n",
            "1594/1594 [==============================] - 5s 3ms/step - loss: 0.3726 - accuracy: 0.8681 - val_loss: 0.3832 - val_accuracy: 0.8664\n",
            "Epoch 9/10\n",
            "1594/1594 [==============================] - 5s 3ms/step - loss: 0.3629 - accuracy: 0.8717 - val_loss: 0.3847 - val_accuracy: 0.8628\n",
            "Epoch 10/10\n",
            "1594/1594 [==============================] - 6s 4ms/step - loss: 0.3532 - accuracy: 0.8751 - val_loss: 0.4004 - val_accuracy: 0.8628\n"
          ]
        }
      ]
    },
    {
      "cell_type": "code",
      "source": [
        "history.history"
      ],
      "metadata": {
        "colab": {
          "base_uri": "https://localhost:8080/"
        },
        "id": "DeePhwO9O3Lt",
        "outputId": "df1a7569-ed21-40c7-9a8c-d30f1ef74a4f"
      },
      "execution_count": 18,
      "outputs": [
        {
          "output_type": "execute_result",
          "data": {
            "text/plain": [
              "{'loss': [0.7971353530883789,\n",
              "  0.5142472386360168,\n",
              "  0.4639270305633545,\n",
              "  0.43498143553733826,\n",
              "  0.41506463289260864,\n",
              "  0.3976627290248871,\n",
              "  0.38403409719467163,\n",
              "  0.372570276260376,\n",
              "  0.36285653710365295,\n",
              "  0.35323193669319153],\n",
              " 'accuracy': [0.7353725433349609,\n",
              "  0.8223137259483337,\n",
              "  0.8370392322540283,\n",
              "  0.8473333120346069,\n",
              "  0.8545294404029846,\n",
              "  0.8593529462814331,\n",
              "  0.8640588521957397,\n",
              "  0.8681372404098511,\n",
              "  0.871666669845581,\n",
              "  0.8750980496406555],\n",
              " 'val_loss': [0.5616311430931091,\n",
              "  0.49469906091690063,\n",
              "  0.4614127576351166,\n",
              "  0.43340346217155457,\n",
              "  0.438607394695282,\n",
              "  0.40348273515701294,\n",
              "  0.3973008096218109,\n",
              "  0.38318848609924316,\n",
              "  0.3846679627895355,\n",
              "  0.4003593623638153],\n",
              " 'val_accuracy': [0.8045555353164673,\n",
              "  0.8266666531562805,\n",
              "  0.8386666774749756,\n",
              "  0.8492222428321838,\n",
              "  0.8411111235618591,\n",
              "  0.8587777614593506,\n",
              "  0.8618888854980469,\n",
              "  0.86644446849823,\n",
              "  0.8627777695655823,\n",
              "  0.8627777695655823]}"
            ]
          },
          "metadata": {},
          "execution_count": 18
        }
      ]
    },
    {
      "cell_type": "code",
      "source": [
        "history.params"
      ],
      "metadata": {
        "colab": {
          "base_uri": "https://localhost:8080/"
        },
        "id": "U9RuwFcgRhUJ",
        "outputId": "e6423b3b-4867-4c9e-91f1-12a03bfb94ef"
      },
      "execution_count": 19,
      "outputs": [
        {
          "output_type": "execute_result",
          "data": {
            "text/plain": [
              "{'verbose': 1, 'epochs': 10, 'steps': 1594}"
            ]
          },
          "metadata": {},
          "execution_count": 19
        }
      ]
    },
    {
      "cell_type": "code",
      "source": [
        "history.history.keys()"
      ],
      "metadata": {
        "colab": {
          "base_uri": "https://localhost:8080/"
        },
        "id": "br5d3Jl9Rmx8",
        "outputId": "5f3121f5-9334-4588-de10-654e1481670e"
      },
      "execution_count": 20,
      "outputs": [
        {
          "output_type": "execute_result",
          "data": {
            "text/plain": [
              "dict_keys(['loss', 'accuracy', 'val_loss', 'val_accuracy'])"
            ]
          },
          "metadata": {},
          "execution_count": 20
        }
      ]
    },
    {
      "cell_type": "code",
      "source": [
        "fig , ax = plt.subplots(figsize=(12,5))\n",
        "ax.plot(history.history['loss'], label='train loss')\n",
        "ax.plot(history.history['accuracy'], label='train accuracy')\n",
        "ax.plot(history.history['val_loss'], label='val loss')\n",
        "ax.plot(history.history['val_accuracy'], label='val accuracy')\n",
        "ax.legend()"
      ],
      "metadata": {
        "colab": {
          "base_uri": "https://localhost:8080/",
          "height": 312
        },
        "id": "P2LY8-W0R0Rl",
        "outputId": "ffccaff2-3b90-4e1b-d456-09c71aa9151d"
      },
      "execution_count": 24,
      "outputs": [
        {
          "output_type": "execute_result",
          "data": {
            "text/plain": [
              "<matplotlib.legend.Legend at 0x7fb2293b7670>"
            ]
          },
          "metadata": {},
          "execution_count": 24
        },
        {
          "output_type": "display_data",
          "data": {
            "text/plain": [
              "<Figure size 1200x500 with 1 Axes>"
            ],
            "image/png": "[encoded data removed]"
          },
          "metadata": {}
        }
      ]
    },
    {
      "cell_type": "code",
      "source": [
        " model.evaluate(x_test, y_test,verbose=0)"
      ],
      "metadata": {
        "colab": {
          "base_uri": "https://localhost:8080/"
        },
        "id": "_iNarWIKTbmt",
        "outputId": "057e85b1-b276-4dc6-cfc6-8fcc168cc82c"
      },
      "execution_count": 27,
      "outputs": [
        {
          "output_type": "execute_result",
          "data": {
            "text/plain": [
              "[0.4211207628250122, 0.8539000153541565]"
            ]
          },
          "metadata": {},
          "execution_count": 27
        }
      ]
    },
    {
      "cell_type": "code",
      "source": [
        "x3 = x_test[0:3,:,:]\n",
        "x3.shape"
      ],
      "metadata": {
        "colab": {
          "base_uri": "https://localhost:8080/"
        },
        "id": "-0WG5P1hVZrz",
        "outputId": "8b01f58c-e552-4f77-91b9-21654b2c3b91"
      },
      "execution_count": 30,
      "outputs": [
        {
          "output_type": "execute_result",
          "data": {
            "text/plain": [
              "(3, 28, 28)"
            ]
          },
          "metadata": {},
          "execution_count": 30
        }
      ]
    },
    {
      "cell_type": "code",
      "source": [
        "plt.imshow(x3[1],cmap='gray')"
      ],
      "metadata": {
        "colab": {
          "base_uri": "https://localhost:8080/",
          "height": 447
        },
        "id": "1WZH-nkuWjp9",
        "outputId": "42cd3fc8-39f8-43a6-c83b-1e3de366e0fb"
      },
      "execution_count": 42,
      "outputs": [
        {
          "output_type": "execute_result",
          "data": {
            "text/plain": [
              "<matplotlib.image.AxesImage at 0x7fb228d4d0d0>"
            ]
          },
          "metadata": {},
          "execution_count": 42
        },
        {
          "output_type": "display_data",
          "data": {
            "text/plain": [
              "<Figure size 640x480 with 1 Axes>"
            ],
            "image/png": "[encoded data removed]"
          },
          "metadata": {}
        }
      ]
    },
    {
      "cell_type": "code",
      "source": [
        "print(model.predict(x3).round(3))\n",
        "print(model.predict(x3).shape)"
      ],
      "metadata": {
        "colab": {
          "base_uri": "https://localhost:8080/"
        },
        "id": "-gaW-BrlWy0V",
        "outputId": "d4a33a0a-cae4-40b8-bdca-4080d62216a4"
      },
      "execution_count": 36,
      "outputs": [
        {
          "output_type": "stream",
          "name": "stdout",
          "text": [
            "1/1 [==============================] - 0s 48ms/step\n",
            "[[0.    0.    0.    0.    0.    0.057 0.    0.039 0.002 0.902]\n",
            " [0.    0.    0.956 0.    0.029 0.    0.015 0.    0.    0.   ]\n",
            " [0.    1.    0.    0.    0.    0.    0.    0.    0.    0.   ]]\n",
            "1/1 [==============================] - 0s 31ms/step\n",
            "(3, 10)\n"
          ]
        }
      ]
    },
    {
      "cell_type": "code",
      "source": [
        "import numpy as np\n",
        "np.argmax(model.predict(x3).round(3),axis=1)"
      ],
      "metadata": {
        "colab": {
          "base_uri": "https://localhost:8080/"
        },
        "id": "_aTK5epRW6Bt",
        "outputId": "e6b2bb7c-53ff-4743-fd94-8aa2fbf6a1ee"
      },
      "execution_count": 38,
      "outputs": [
        {
          "output_type": "stream",
          "name": "stdout",
          "text": [
            "1/1 [==============================] - 0s 155ms/step\n"
          ]
        },
        {
          "output_type": "execute_result",
          "data": {
            "text/plain": [
              "array([9, 2, 1])"
            ]
          },
          "metadata": {},
          "execution_count": 38
        }
      ]
    },
    {
      "cell_type": "code",
      "source": [
        "y_test[0:3]"
      ],
      "metadata": {
        "colab": {
          "base_uri": "https://localhost:8080/"
        },
        "id": "9FO1QsvrXxza",
        "outputId": "62ff2b6e-3e72-46d0-fc14-8530fe700bcc"
      },
      "execution_count": 43,
      "outputs": [
        {
          "output_type": "execute_result",
          "data": {
            "text/plain": [
              "array([9, 2, 1], dtype=uint8)"
            ]
          },
          "metadata": {},
          "execution_count": 43
        }
      ]
    },
    {
      "cell_type": "code",
      "source": [],
      "metadata": {
        "id": "KSX4iSuiYV3f"
      },
      "execution_count": null,
      "outputs": []
    }
  ]
}