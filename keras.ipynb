{
  "nbformat": 4,
  "nbformat_minor": 0,
  "metadata": {
    "colab": {
      "provenance": [],
      "authorship_tag": "ABX9TyOw/RWuSnPX8H4FeZcv3CdO",
      "include_colab_link": true
    },
    "kernelspec": {
      "name": "python3",
      "display_name": "Python 3"
    },
    "language_info": {
      "name": "python"
    }
  },
  "cells": [
    {
      "cell_type": "markdown",
      "metadata": {
        "id": "view-in-github",
        "colab_type": "text"
      },
      "source": [
        "<a href=\"https://colab.research.google.com/github/bagher2901/colab_deep_learn/blob/main/keras.ipynb\" target=\"_parent\"><img src=\"https://colab.research.google.com/assets/colab-badge.svg\" alt=\"Open In Colab\"/></a>"
      ]
    },
    {
      "cell_type": "code",
      "execution_count": 1,
      "metadata": {
        "id": "YWjRLo2jZ6Fj"
      },
      "outputs": [],
      "source": [
        "import tensorflow as tf\n",
        "from tensorflow import keras"
      ]
    },
    {
      "cell_type": "code",
      "source": [
        "tf.__version__"
      ],
      "metadata": {
        "colab": {
          "base_uri": "https://localhost:8080/",
          "height": 36
        },
        "id": "SHquoIEqaS6U",
        "outputId": "60134076-5624-41fb-9f1f-68661a857b80"
      },
      "execution_count": 3,
      "outputs": [
        {
          "output_type": "execute_result",
          "data": {
            "text/plain": [
              "'2.11.0'"
            ],
            "application/vnd.google.colaboratory.intrinsic+json": {
              "type": "string"
            }
          },
          "metadata": {},
          "execution_count": 3
        }
      ]
    },
    {
      "cell_type": "code",
      "source": [
        "keras.__version__"
      ],
      "metadata": {
        "colab": {
          "base_uri": "https://localhost:8080/",
          "height": 36
        },
        "id": "Rwt1JbKSacb7",
        "outputId": "3e96c6dc-5f54-4a72-c90d-db0ad4163cc5"
      },
      "execution_count": 4,
      "outputs": [
        {
          "output_type": "execute_result",
          "data": {
            "text/plain": [
              "'2.11.0'"
            ],
            "application/vnd.google.colaboratory.intrinsic+json": {
              "type": "string"
            }
          },
          "metadata": {},
          "execution_count": 4
        }
      ]
    },
    {
      "cell_type": "code",
      "source": [
        "fmnist_data = keras.datasets.fashion_mnist"
      ],
      "metadata": {
        "id": "JA24P67TcMkL"
      },
      "execution_count": 5,
      "outputs": []
    },
    {
      "cell_type": "code",
      "source": [
        "(x_train, y_train), (x_test, y_test) = fmnist_data.load_data()"
      ],
      "metadata": {
        "colab": {
          "base_uri": "https://localhost:8080/"
        },
        "id": "huL0WmLzeFZ8",
        "outputId": "c4f23a68-701d-419f-f0cf-97290dcd6b1a"
      },
      "execution_count": 6,
      "outputs": [
        {
          "output_type": "stream",
          "name": "stdout",
          "text": [
            "Downloading data from https://storage.googleapis.com/tensorflow/tf-keras-datasets/train-labels-idx1-ubyte.gz\n",
            "29515/29515 [==============================] - 0s 0us/step\n",
            "Downloading data from https://storage.googleapis.com/tensorflow/tf-keras-datasets/train-images-idx3-ubyte.gz\n",
            "26421880/26421880 [==============================] - 0s 0us/step\n",
            "Downloading data from https://storage.googleapis.com/tensorflow/tf-keras-datasets/t10k-labels-idx1-ubyte.gz\n",
            "5148/5148 [==============================] - 0s 0us/step\n",
            "Downloading data from https://storage.googleapis.com/tensorflow/tf-keras-datasets/t10k-images-idx3-ubyte.gz\n",
            "4422102/4422102 [==============================] - 0s 0us/step\n"
          ]
        }
      ]
    },
    {
      "cell_type": "code",
      "source": [
        "x_train.shape"
      ],
      "metadata": {
        "colab": {
          "base_uri": "https://localhost:8080/"
        },
        "id": "pvVjONWOefJ4",
        "outputId": "be1bc7c1-cfbc-42ca-ddfe-03cc8072029f"
      },
      "execution_count": 7,
      "outputs": [
        {
          "output_type": "execute_result",
          "data": {
            "text/plain": [
              "(60000, 28, 28)"
            ]
          },
          "metadata": {},
          "execution_count": 7
        }
      ]
    },
    {
      "cell_type": "code",
      "source": [
        "y_train[:100]"
      ],
      "metadata": {
        "colab": {
          "base_uri": "https://localhost:8080/"
        },
        "id": "klFW2vwkejds",
        "outputId": "661b3b2b-7898-4518-90e9-23b38493d692"
      },
      "execution_count": 8,
      "outputs": [
        {
          "output_type": "execute_result",
          "data": {
            "text/plain": [
              "array([9, 0, 0, 3, 0, 2, 7, 2, 5, 5, 0, 9, 5, 5, 7, 9, 1, 0, 6, 4, 3, 1,\n",
              "       4, 8, 4, 3, 0, 2, 4, 4, 5, 3, 6, 6, 0, 8, 5, 2, 1, 6, 6, 7, 9, 5,\n",
              "       9, 2, 7, 3, 0, 3, 3, 3, 7, 2, 2, 6, 6, 8, 3, 3, 5, 0, 5, 5, 0, 2,\n",
              "       0, 0, 4, 1, 3, 1, 6, 3, 1, 4, 4, 6, 1, 9, 1, 3, 5, 7, 9, 7, 1, 7,\n",
              "       9, 9, 9, 3, 2, 9, 3, 6, 4, 1, 1, 8], dtype=uint8)"
            ]
          },
          "metadata": {},
          "execution_count": 8
        }
      ]
    },
    {
      "cell_type": "code",
      "source": [
        "x_train[1]"
      ],
      "metadata": {
        "colab": {
          "base_uri": "https://localhost:8080/"
        },
        "id": "LYZIwkpuesqd",
        "outputId": "d302b61d-4413-4134-f2ad-99aef08bc3cc"
      },
      "execution_count": 9,
      "outputs": [
        {
          "output_type": "execute_result",
          "data": {
            "text/plain": [
              "array([[  0,   0,   0,   0,   0,   1,   0,   0,   0,   0,  41, 188, 103,\n",
              "         54,  48,  43,  87, 168, 133,  16,   0,   0,   0,   0,   0,   0,\n",
              "          0,   0],\n",
              "       [  0,   0,   0,   1,   0,   0,   0,  49, 136, 219, 216, 228, 236,\n",
              "        255, 255, 255, 255, 217, 215, 254, 231, 160,  45,   0,   0,   0,\n",
              "          0,   0],\n",
              "       [  0,   0,   0,   0,   0,  14, 176, 222, 224, 212, 203, 198, 196,\n",
              "        200, 215, 204, 202, 201, 201, 201, 209, 218, 224, 164,   0,   0,\n",
              "          0,   0],\n",
              "       [  0,   0,   0,   0,   0, 188, 219, 200, 198, 202, 198, 199, 199,\n",
              "        201, 196, 198, 198, 200, 200, 200, 200, 201, 200, 225,  41,   0,\n",
              "          0,   0],\n",
              "       [  0,   0,   0,   0,  51, 219, 199, 203, 203, 212, 238, 248, 250,\n",
              "        245, 249, 246, 247, 252, 248, 235, 207, 203, 203, 222, 140,   0,\n",
              "          0,   0],\n",
              "       [  0,   0,   0,   0, 116, 226, 206, 204, 207, 204, 101,  75,  47,\n",
              "         73,  48,  50,  45,  51,  63, 113, 222, 202, 206, 220, 224,   0,\n",
              "          0,   0],\n",
              "       [  0,   0,   0,   0, 200, 222, 209, 203, 215, 200,   0,  70,  98,\n",
              "          0, 103,  59,  68,  71,  49,   0, 219, 206, 214, 210, 250,  38,\n",
              "          0,   0],\n",
              "       [  0,   0,   0,   0, 247, 218, 212, 210, 215, 214,   0, 254, 243,\n",
              "        139, 255, 174, 251, 255, 205,   0, 215, 217, 214, 208, 220,  95,\n",
              "          0,   0],\n",
              "       [  0,   0,   0,  45, 226, 214, 214, 215, 224, 205,   0,  42,  35,\n",
              "         60,  16,  17,  12,  13,  70,   0, 189, 216, 212, 206, 212, 156,\n",
              "          0,   0],\n",
              "       [  0,   0,   0, 164, 235, 214, 211, 220, 216, 201,  52,  71,  89,\n",
              "         94,  83,  78,  70,  76,  92,  87, 206, 207, 222, 213, 219, 208,\n",
              "          0,   0],\n",
              "       [  0,   0,   0, 106, 187, 223, 237, 248, 211, 198, 252, 250, 248,\n",
              "        245, 248, 252, 253, 250, 252, 239, 201, 212, 225, 215, 193, 113,\n",
              "          0,   0],\n",
              "       [  0,   0,   0,   0,   0,  17,  54, 159, 222, 193, 208, 192, 197,\n",
              "        200, 200, 200, 200, 201, 203, 195, 210, 165,   0,   0,   0,   0,\n",
              "          0,   0],\n",
              "       [  0,   0,   0,   0,   0,   0,   0,  47, 225, 192, 214, 203, 206,\n",
              "        204, 204, 205, 206, 204, 212, 197, 218, 107,   0,   0,   0,   0,\n",
              "          0,   0],\n",
              "       [  0,   0,   0,   0,   1,   6,   0,  46, 212, 195, 212, 202, 206,\n",
              "        205, 204, 205, 206, 204, 212, 200, 218,  91,   0,   3,   1,   0,\n",
              "          0,   0],\n",
              "       [  0,   0,   0,   0,   0,   1,   0,  11, 197, 199, 205, 202, 205,\n",
              "        206, 204, 205, 207, 204, 205, 205, 218,  77,   0,   5,   0,   0,\n",
              "          0,   0],\n",
              "       [  0,   0,   0,   0,   0,   3,   0,   2, 191, 198, 201, 205, 206,\n",
              "        205, 205, 206, 209, 206, 199, 209, 219,  74,   0,   5,   0,   0,\n",
              "          0,   0],\n",
              "       [  0,   0,   0,   0,   0,   2,   0,   0, 188, 197, 200, 207, 207,\n",
              "        204, 207, 207, 210, 208, 198, 207, 221,  72,   0,   4,   0,   0,\n",
              "          0,   0],\n",
              "       [  0,   0,   0,   0,   0,   2,   0,   0, 215, 198, 203, 206, 208,\n",
              "        205, 207, 207, 210, 208, 200, 202, 222,  75,   0,   4,   0,   0,\n",
              "          0,   0],\n",
              "       [  0,   0,   0,   0,   0,   1,   0,   0, 212, 198, 209, 206, 209,\n",
              "        206, 208, 207, 211, 206, 205, 198, 221,  80,   0,   3,   0,   0,\n",
              "          0,   0],\n",
              "       [  0,   0,   0,   0,   0,   1,   0,   0, 204, 201, 205, 208, 207,\n",
              "        205, 211, 205, 210, 210, 209, 195, 221,  96,   0,   3,   0,   0,\n",
              "          0,   0],\n",
              "       [  0,   0,   0,   0,   0,   1,   0,   0, 202, 201, 205, 209, 207,\n",
              "        205, 213, 206, 210, 209, 210, 194, 217, 105,   0,   2,   0,   0,\n",
              "          0,   0],\n",
              "       [  0,   0,   0,   0,   0,   1,   0,   0, 204, 204, 205, 208, 207,\n",
              "        205, 215, 207, 210, 208, 211, 193, 213, 115,   0,   2,   0,   0,\n",
              "          0,   0],\n",
              "       [  0,   0,   0,   0,   0,   0,   0,   0, 204, 207, 207, 208, 206,\n",
              "        206, 215, 210, 210, 207, 212, 195, 210, 118,   0,   2,   0,   0,\n",
              "          0,   0],\n",
              "       [  0,   0,   0,   0,   0,   1,   0,   0, 198, 208, 208, 208, 204,\n",
              "        207, 212, 212, 210, 207, 211, 196, 207, 121,   0,   1,   0,   0,\n",
              "          0,   0],\n",
              "       [  0,   0,   0,   0,   0,   1,   0,   0, 198, 210, 207, 208, 206,\n",
              "        209, 213, 212, 211, 207, 210, 197, 207, 124,   0,   1,   0,   0,\n",
              "          0,   0],\n",
              "       [  0,   0,   0,   0,   0,   0,   0,   0, 172, 210, 203, 201, 199,\n",
              "        204, 207, 205, 204, 201, 205, 197, 206, 127,   0,   0,   0,   0,\n",
              "          0,   0],\n",
              "       [  0,   0,   0,   0,   0,   0,   0,   0, 188, 221, 214, 234, 236,\n",
              "        238, 244, 244, 244, 240, 243, 214, 224, 162,   0,   2,   0,   0,\n",
              "          0,   0],\n",
              "       [  0,   0,   0,   0,   0,   1,   0,   0, 139, 146, 130, 135, 135,\n",
              "        137, 125, 124, 125, 121, 119, 114, 130,  76,   0,   0,   0,   0,\n",
              "          0,   0]], dtype=uint8)"
            ]
          },
          "metadata": {},
          "execution_count": 9
        }
      ]
    },
    {
      "cell_type": "code",
      "source": [
        "import matplotlib.pyplot as plt"
      ],
      "metadata": {
        "id": "vk939uUDfCzq"
      },
      "execution_count": 10,
      "outputs": []
    },
    {
      "cell_type": "code",
      "source": [
        "plt.figure()\n",
        "plt.imshow(x_train[0])\n",
        "# plt.imshow(x_train[1], cmap=\"gray\")\n"
      ],
      "metadata": {
        "colab": {
          "base_uri": "https://localhost:8080/",
          "height": 282
        },
        "id": "uhBazN84fLWb",
        "outputId": "3a8af036-6f46-469b-cc03-1630681dc436"
      },
      "execution_count": 20,
      "outputs": [
        {
          "output_type": "execute_result",
          "data": {
            "text/plain": [
              "<matplotlib.image.AxesImage at 0x7fe83b0f9340>"
            ]
          },
          "metadata": {},
          "execution_count": 20
        },
        {
          "output_type": "display_data",
          "data": {
            "text/plain": [
              "<Figure size 432x288 with 1 Axes>"
            ],
            "image/png": "[encoded data removed]"
          },
          "metadata": {
            "needs_background": "light"
          }
        }
      ]
    },
    {
      "cell_type": "code",
      "source": [
        "x_train, x_test = x_train/255.0 , x_test/255.0\n"
      ],
      "metadata": {
        "id": "JyNbf8AigSUf"
      },
      "execution_count": 22,
      "outputs": []
    },
    {
      "cell_type": "code",
      "source": [
        "x_train[1]"
      ],
      "metadata": {
        "colab": {
          "base_uri": "https://localhost:8080/"
        },
        "id": "Q40kCYcEg4SU",
        "outputId": "e59e3830-72f5-4d12-dba3-3808d90612a9"
      },
      "execution_count": 23,
      "outputs": [
        {
          "output_type": "execute_result",
          "data": {
            "text/plain": [
              "array([[0.        , 0.        , 0.        , 0.        , 0.        ,\n",
              "        0.00392157, 0.        , 0.        , 0.        , 0.        ,\n",
              "        0.16078431, 0.7372549 , 0.40392157, 0.21176471, 0.18823529,\n",
              "        0.16862745, 0.34117647, 0.65882353, 0.52156863, 0.0627451 ,\n",
              "        0.        , 0.        , 0.        , 0.        , 0.        ,\n",
              "        0.        , 0.        , 0.        ],\n",
              "       [0.        , 0.        , 0.        , 0.00392157, 0.        ,\n",
              "        0.        , 0.        , 0.19215686, 0.53333333, 0.85882353,\n",
              "        0.84705882, 0.89411765, 0.9254902 , 1.        , 1.        ,\n",
              "        1.        , 1.        , 0.85098039, 0.84313725, 0.99607843,\n",
              "        0.90588235, 0.62745098, 0.17647059, 0.        , 0.        ,\n",
              "        0.        , 0.        , 0.        ],\n",
              "       [0.        , 0.        , 0.        , 0.        , 0.        ,\n",
              "        0.05490196, 0.69019608, 0.87058824, 0.87843137, 0.83137255,\n",
              "        0.79607843, 0.77647059, 0.76862745, 0.78431373, 0.84313725,\n",
              "        0.8       , 0.79215686, 0.78823529, 0.78823529, 0.78823529,\n",
              "        0.81960784, 0.85490196, 0.87843137, 0.64313725, 0.        ,\n",
              "        0.        , 0.        , 0.        ],\n",
              "       [0.        , 0.        , 0.        , 0.        , 0.        ,\n",
              "        0.7372549 , 0.85882353, 0.78431373, 0.77647059, 0.79215686,\n",
              "        0.77647059, 0.78039216, 0.78039216, 0.78823529, 0.76862745,\n",
              "        0.77647059, 0.77647059, 0.78431373, 0.78431373, 0.78431373,\n",
              "        0.78431373, 0.78823529, 0.78431373, 0.88235294, 0.16078431,\n",
              "        0.        , 0.        , 0.        ],\n",
              "       [0.        , 0.        , 0.        , 0.        , 0.2       ,\n",
              "        0.85882353, 0.78039216, 0.79607843, 0.79607843, 0.83137255,\n",
              "        0.93333333, 0.97254902, 0.98039216, 0.96078431, 0.97647059,\n",
              "        0.96470588, 0.96862745, 0.98823529, 0.97254902, 0.92156863,\n",
              "        0.81176471, 0.79607843, 0.79607843, 0.87058824, 0.54901961,\n",
              "        0.        , 0.        , 0.        ],\n",
              "       [0.        , 0.        , 0.        , 0.        , 0.45490196,\n",
              "        0.88627451, 0.80784314, 0.8       , 0.81176471, 0.8       ,\n",
              "        0.39607843, 0.29411765, 0.18431373, 0.28627451, 0.18823529,\n",
              "        0.19607843, 0.17647059, 0.2       , 0.24705882, 0.44313725,\n",
              "        0.87058824, 0.79215686, 0.80784314, 0.8627451 , 0.87843137,\n",
              "        0.        , 0.        , 0.        ],\n",
              "       [0.        , 0.        , 0.        , 0.        , 0.78431373,\n",
              "        0.87058824, 0.81960784, 0.79607843, 0.84313725, 0.78431373,\n",
              "        0.        , 0.2745098 , 0.38431373, 0.        , 0.40392157,\n",
              "        0.23137255, 0.26666667, 0.27843137, 0.19215686, 0.        ,\n",
              "        0.85882353, 0.80784314, 0.83921569, 0.82352941, 0.98039216,\n",
              "        0.14901961, 0.        , 0.        ],\n",
              "       [0.        , 0.        , 0.        , 0.        , 0.96862745,\n",
              "        0.85490196, 0.83137255, 0.82352941, 0.84313725, 0.83921569,\n",
              "        0.        , 0.99607843, 0.95294118, 0.54509804, 1.        ,\n",
              "        0.68235294, 0.98431373, 1.        , 0.80392157, 0.        ,\n",
              "        0.84313725, 0.85098039, 0.83921569, 0.81568627, 0.8627451 ,\n",
              "        0.37254902, 0.        , 0.        ],\n",
              "       [0.        , 0.        , 0.        , 0.17647059, 0.88627451,\n",
              "        0.83921569, 0.83921569, 0.84313725, 0.87843137, 0.80392157,\n",
              "        0.        , 0.16470588, 0.1372549 , 0.23529412, 0.0627451 ,\n",
              "        0.06666667, 0.04705882, 0.05098039, 0.2745098 , 0.        ,\n",
              "        0.74117647, 0.84705882, 0.83137255, 0.80784314, 0.83137255,\n",
              "        0.61176471, 0.        , 0.        ],\n",
              "       [0.        , 0.        , 0.        , 0.64313725, 0.92156863,\n",
              "        0.83921569, 0.82745098, 0.8627451 , 0.84705882, 0.78823529,\n",
              "        0.20392157, 0.27843137, 0.34901961, 0.36862745, 0.3254902 ,\n",
              "        0.30588235, 0.2745098 , 0.29803922, 0.36078431, 0.34117647,\n",
              "        0.80784314, 0.81176471, 0.87058824, 0.83529412, 0.85882353,\n",
              "        0.81568627, 0.        , 0.        ],\n",
              "       [0.        , 0.        , 0.        , 0.41568627, 0.73333333,\n",
              "        0.8745098 , 0.92941176, 0.97254902, 0.82745098, 0.77647059,\n",
              "        0.98823529, 0.98039216, 0.97254902, 0.96078431, 0.97254902,\n",
              "        0.98823529, 0.99215686, 0.98039216, 0.98823529, 0.9372549 ,\n",
              "        0.78823529, 0.83137255, 0.88235294, 0.84313725, 0.75686275,\n",
              "        0.44313725, 0.        , 0.        ],\n",
              "       [0.        , 0.        , 0.        , 0.        , 0.        ,\n",
              "        0.06666667, 0.21176471, 0.62352941, 0.87058824, 0.75686275,\n",
              "        0.81568627, 0.75294118, 0.77254902, 0.78431373, 0.78431373,\n",
              "        0.78431373, 0.78431373, 0.78823529, 0.79607843, 0.76470588,\n",
              "        0.82352941, 0.64705882, 0.        , 0.        , 0.        ,\n",
              "        0.        , 0.        , 0.        ],\n",
              "       [0.        , 0.        , 0.        , 0.        , 0.        ,\n",
              "        0.        , 0.        , 0.18431373, 0.88235294, 0.75294118,\n",
              "        0.83921569, 0.79607843, 0.80784314, 0.8       , 0.8       ,\n",
              "        0.80392157, 0.80784314, 0.8       , 0.83137255, 0.77254902,\n",
              "        0.85490196, 0.41960784, 0.        , 0.        , 0.        ,\n",
              "        0.        , 0.        , 0.        ],\n",
              "       [0.        , 0.        , 0.        , 0.        , 0.00392157,\n",
              "        0.02352941, 0.        , 0.18039216, 0.83137255, 0.76470588,\n",
              "        0.83137255, 0.79215686, 0.80784314, 0.80392157, 0.8       ,\n",
              "        0.80392157, 0.80784314, 0.8       , 0.83137255, 0.78431373,\n",
              "        0.85490196, 0.35686275, 0.        , 0.01176471, 0.00392157,\n",
              "        0.        , 0.        , 0.        ],\n",
              "       [0.        , 0.        , 0.        , 0.        , 0.        ,\n",
              "        0.00392157, 0.        , 0.04313725, 0.77254902, 0.78039216,\n",
              "        0.80392157, 0.79215686, 0.80392157, 0.80784314, 0.8       ,\n",
              "        0.80392157, 0.81176471, 0.8       , 0.80392157, 0.80392157,\n",
              "        0.85490196, 0.30196078, 0.        , 0.01960784, 0.        ,\n",
              "        0.        , 0.        , 0.        ],\n",
              "       [0.        , 0.        , 0.        , 0.        , 0.        ,\n",
              "        0.01176471, 0.        , 0.00784314, 0.74901961, 0.77647059,\n",
              "        0.78823529, 0.80392157, 0.80784314, 0.80392157, 0.80392157,\n",
              "        0.80784314, 0.81960784, 0.80784314, 0.78039216, 0.81960784,\n",
              "        0.85882353, 0.29019608, 0.        , 0.01960784, 0.        ,\n",
              "        0.        , 0.        , 0.        ],\n",
              "       [0.        , 0.        , 0.        , 0.        , 0.        ,\n",
              "        0.00784314, 0.        , 0.        , 0.7372549 , 0.77254902,\n",
              "        0.78431373, 0.81176471, 0.81176471, 0.8       , 0.81176471,\n",
              "        0.81176471, 0.82352941, 0.81568627, 0.77647059, 0.81176471,\n",
              "        0.86666667, 0.28235294, 0.        , 0.01568627, 0.        ,\n",
              "        0.        , 0.        , 0.        ],\n",
              "       [0.        , 0.        , 0.        , 0.        , 0.        ,\n",
              "        0.00784314, 0.        , 0.        , 0.84313725, 0.77647059,\n",
              "        0.79607843, 0.80784314, 0.81568627, 0.80392157, 0.81176471,\n",
              "        0.81176471, 0.82352941, 0.81568627, 0.78431373, 0.79215686,\n",
              "        0.87058824, 0.29411765, 0.        , 0.01568627, 0.        ,\n",
              "        0.        , 0.        , 0.        ],\n",
              "       [0.        , 0.        , 0.        , 0.        , 0.        ,\n",
              "        0.00392157, 0.        , 0.        , 0.83137255, 0.77647059,\n",
              "        0.81960784, 0.80784314, 0.81960784, 0.80784314, 0.81568627,\n",
              "        0.81176471, 0.82745098, 0.80784314, 0.80392157, 0.77647059,\n",
              "        0.86666667, 0.31372549, 0.        , 0.01176471, 0.        ,\n",
              "        0.        , 0.        , 0.        ],\n",
              "       [0.        , 0.        , 0.        , 0.        , 0.        ,\n",
              "        0.00392157, 0.        , 0.        , 0.8       , 0.78823529,\n",
              "        0.80392157, 0.81568627, 0.81176471, 0.80392157, 0.82745098,\n",
              "        0.80392157, 0.82352941, 0.82352941, 0.81960784, 0.76470588,\n",
              "        0.86666667, 0.37647059, 0.        , 0.01176471, 0.        ,\n",
              "        0.        , 0.        , 0.        ],\n",
              "       [0.        , 0.        , 0.        , 0.        , 0.        ,\n",
              "        0.00392157, 0.        , 0.        , 0.79215686, 0.78823529,\n",
              "        0.80392157, 0.81960784, 0.81176471, 0.80392157, 0.83529412,\n",
              "        0.80784314, 0.82352941, 0.81960784, 0.82352941, 0.76078431,\n",
              "        0.85098039, 0.41176471, 0.        , 0.00784314, 0.        ,\n",
              "        0.        , 0.        , 0.        ],\n",
              "       [0.        , 0.        , 0.        , 0.        , 0.        ,\n",
              "        0.00392157, 0.        , 0.        , 0.8       , 0.8       ,\n",
              "        0.80392157, 0.81568627, 0.81176471, 0.80392157, 0.84313725,\n",
              "        0.81176471, 0.82352941, 0.81568627, 0.82745098, 0.75686275,\n",
              "        0.83529412, 0.45098039, 0.        , 0.00784314, 0.        ,\n",
              "        0.        , 0.        , 0.        ],\n",
              "       [0.        , 0.        , 0.        , 0.        , 0.        ,\n",
              "        0.        , 0.        , 0.        , 0.8       , 0.81176471,\n",
              "        0.81176471, 0.81568627, 0.80784314, 0.80784314, 0.84313725,\n",
              "        0.82352941, 0.82352941, 0.81176471, 0.83137255, 0.76470588,\n",
              "        0.82352941, 0.4627451 , 0.        , 0.00784314, 0.        ,\n",
              "        0.        , 0.        , 0.        ],\n",
              "       [0.        , 0.        , 0.        , 0.        , 0.        ,\n",
              "        0.00392157, 0.        , 0.        , 0.77647059, 0.81568627,\n",
              "        0.81568627, 0.81568627, 0.8       , 0.81176471, 0.83137255,\n",
              "        0.83137255, 0.82352941, 0.81176471, 0.82745098, 0.76862745,\n",
              "        0.81176471, 0.4745098 , 0.        , 0.00392157, 0.        ,\n",
              "        0.        , 0.        , 0.        ],\n",
              "       [0.        , 0.        , 0.        , 0.        , 0.        ,\n",
              "        0.00392157, 0.        , 0.        , 0.77647059, 0.82352941,\n",
              "        0.81176471, 0.81568627, 0.80784314, 0.81960784, 0.83529412,\n",
              "        0.83137255, 0.82745098, 0.81176471, 0.82352941, 0.77254902,\n",
              "        0.81176471, 0.48627451, 0.        , 0.00392157, 0.        ,\n",
              "        0.        , 0.        , 0.        ],\n",
              "       [0.        , 0.        , 0.        , 0.        , 0.        ,\n",
              "        0.        , 0.        , 0.        , 0.6745098 , 0.82352941,\n",
              "        0.79607843, 0.78823529, 0.78039216, 0.8       , 0.81176471,\n",
              "        0.80392157, 0.8       , 0.78823529, 0.80392157, 0.77254902,\n",
              "        0.80784314, 0.49803922, 0.        , 0.        , 0.        ,\n",
              "        0.        , 0.        , 0.        ],\n",
              "       [0.        , 0.        , 0.        , 0.        , 0.        ,\n",
              "        0.        , 0.        , 0.        , 0.7372549 , 0.86666667,\n",
              "        0.83921569, 0.91764706, 0.9254902 , 0.93333333, 0.95686275,\n",
              "        0.95686275, 0.95686275, 0.94117647, 0.95294118, 0.83921569,\n",
              "        0.87843137, 0.63529412, 0.        , 0.00784314, 0.        ,\n",
              "        0.        , 0.        , 0.        ],\n",
              "       [0.        , 0.        , 0.        , 0.        , 0.        ,\n",
              "        0.00392157, 0.        , 0.        , 0.54509804, 0.57254902,\n",
              "        0.50980392, 0.52941176, 0.52941176, 0.5372549 , 0.49019608,\n",
              "        0.48627451, 0.49019608, 0.4745098 , 0.46666667, 0.44705882,\n",
              "        0.50980392, 0.29803922, 0.        , 0.        , 0.        ,\n",
              "        0.        , 0.        , 0.        ]])"
            ]
          },
          "metadata": {},
          "execution_count": 23
        }
      ]
    },
    {
      "cell_type": "code",
      "source": [],
      "metadata": {
        "id": "c__A4Z6yhE2P"
      },
      "execution_count": null,
      "outputs": []
    }
  ]
}