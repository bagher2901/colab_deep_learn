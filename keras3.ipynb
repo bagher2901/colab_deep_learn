{
  "nbformat": 4,
  "nbformat_minor": 0,
  "metadata": {
    "colab": {
      "provenance": [],
      "authorship_tag": "ABX9TyO5S7qfCqKskIlrJgn1BYEi",
      "include_colab_link": true
    },
    "kernelspec": {
      "name": "python3",
      "display_name": "Python 3"
    },
    "language_info": {
      "name": "python"
    }
  },
  "cells": [
    {
      "cell_type": "markdown",
      "metadata": {
        "id": "view-in-github",
        "colab_type": "text"
      },
      "source": [
        "<a href=\"https://colab.research.google.com/github/bagher2901/colab_deep_learn/blob/main/keras3.ipynb\" target=\"_parent\"><img src=\"https://colab.research.google.com/assets/colab-badge.svg\" alt=\"Open In Colab\"/></a>"
      ]
    },
    {
      "cell_type": "markdown",
      "source": [
        "# subclass API"
      ],
      "metadata": {
        "id": "NTWfMC_fXYo0"
      }
    },
    {
      "cell_type": "code",
      "source": [
        "from sklearn.datasets import fetch_california_housing\n",
        "import tensorflow as tf\n",
        "from tensorflow import keras\n",
        "from sklearn.model_selection import train_test_split\n",
        "from sklearn.preprocessing import StandardScaler\n",
        "import matplotlib.pyplot as plt\n",
        "import numpy as np\n"
      ],
      "metadata": {
        "id": "lROOU6xvYQ6c"
      },
      "execution_count": 1,
      "outputs": []
    },
    {
      "cell_type": "code",
      "execution_count": 3,
      "metadata": {
        "id": "rOacNFD-WskW"
      },
      "outputs": [],
      "source": [
        "class WideAndDeepANN(keras.Model):\n",
        "  def __init__(self,activation='relu',**kwargs):\n",
        "    super().__init__(**kwargs)\n",
        "    self.hidden_layer_1 = keras.layers.Dense(50,activation=activation)\n",
        "    self.hidden_layer_2 = keras.layers.Dense(10,activation=activation)\n",
        "    self.final_output = keras.layers.Dense(1)\n",
        "    self.helper_output = keras.layers.Dense(1)\n",
        "\n",
        "\n",
        "  def call(self,inputs):\n",
        "    input_1,input_2 = inputs\n",
        "    h1_out = self.hidden_layer_1(input_1)\n",
        "    h2_out = self.hidden_layer_2(h1_out)\n",
        "    concat_out = keras.layers.concatenate([input_2,h2_out])\n",
        "    final_out = self.final_output(concat_out)\n",
        "    helper_out = self.helper_output(h2_out)\n",
        "    return final_out,helper_out\n"
      ]
    },
    {
      "cell_type": "code",
      "source": [
        "model = WideAndDeepANN()"
      ],
      "metadata": {
        "id": "f_LYhUHsZbHr"
      },
      "execution_count": 4,
      "outputs": []
    }
  ]
}