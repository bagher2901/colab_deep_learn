{
  "nbformat": 4,
  "nbformat_minor": 0,
  "metadata": {
    "colab": {
      "provenance": [],
      "authorship_tag": "ABX9TyNsLQndPYxL4GArTeaFpM/D",
      "include_colab_link": true
    },
    "kernelspec": {
      "name": "python3",
      "display_name": "Python 3"
    },
    "language_info": {
      "name": "python"
    }
  },
  "cells": [
    {
      "cell_type": "markdown",
      "metadata": {
        "id": "view-in-github",
        "colab_type": "text"
      },
      "source": [
        "<a href=\"https://colab.research.google.com/github/bagher2901/colab_deep_learn/blob/main/keras2.ipynb\" target=\"_parent\"><img src=\"https://colab.research.google.com/assets/colab-badge.svg\" alt=\"Open In Colab\"/></a>"
      ]
    },
    {
      "cell_type": "markdown",
      "source": [
        "## regression"
      ],
      "metadata": {
        "id": "q1XRmrQVGEpP"
      }
    },
    {
      "cell_type": "code",
      "source": [
        "from sklearn.datasets import fetch_california_housing\n",
        "import tensorflow as tf\n",
        "from tensorflow import keras\n",
        "from sklearn.model_selection import train_test_split\n",
        "from sklearn.preprocessing import StandardScaler\n",
        "import matplotlib.pyplot as plt\n",
        "import numpy as np\n"
      ],
      "metadata": {
        "id": "oE4rWveCGIat"
      },
      "execution_count": 18,
      "outputs": []
    },
    {
      "cell_type": "code",
      "source": [
        "cal_house = fetch_california_housing()"
      ],
      "metadata": {
        "id": "qrV0kLv1HCSI"
      },
      "execution_count": 6,
      "outputs": []
    },
    {
      "cell_type": "code",
      "source": [
        "x_train0,x_test,y_train0,y_test =  train_test_split(cal_house['data'],cal_house['target'])"
      ],
      "metadata": {
        "id": "FO5JOTZ5HM1n"
      },
      "execution_count": 9,
      "outputs": []
    },
    {
      "cell_type": "code",
      "source": [
        "x_train1,x_validation,y_train1,y_validation =  train_test_split(x_train0,y_train0)"
      ],
      "metadata": {
        "id": "KvnurerpI7aK"
      },
      "execution_count": 11,
      "outputs": []
    },
    {
      "cell_type": "code",
      "source": [
        "x_test.shape"
      ],
      "metadata": {
        "colab": {
          "base_uri": "https://localhost:8080/"
        },
        "id": "xFWFIdV9JIAs",
        "outputId": "48e42ff2-13ba-4efa-d216-78aeb6af3a38"
      },
      "execution_count": 12,
      "outputs": [
        {
          "output_type": "execute_result",
          "data": {
            "text/plain": [
              "(3870, 8)"
            ]
          },
          "metadata": {},
          "execution_count": 12
        }
      ]
    },
    {
      "cell_type": "code",
      "source": [
        "x_train0.shape"
      ],
      "metadata": {
        "colab": {
          "base_uri": "https://localhost:8080/"
        },
        "id": "22LQZn9mJoFP",
        "outputId": "2f6ae2d0-6ab9-46a9-d45d-2f212e551afb"
      },
      "execution_count": 13,
      "outputs": [
        {
          "output_type": "execute_result",
          "data": {
            "text/plain": [
              "(15480, 8)"
            ]
          },
          "metadata": {},
          "execution_count": 13
        }
      ]
    },
    {
      "cell_type": "code",
      "source": [
        "x_train1.shape"
      ],
      "metadata": {
        "colab": {
          "base_uri": "https://localhost:8080/"
        },
        "id": "Bc3BFImFJrPx",
        "outputId": "c1078230-5757-408f-9346-1801ef44cef9"
      },
      "execution_count": 14,
      "outputs": [
        {
          "output_type": "execute_result",
          "data": {
            "text/plain": [
              "(11610, 8)"
            ]
          },
          "metadata": {},
          "execution_count": 14
        }
      ]
    },
    {
      "cell_type": "code",
      "source": [
        "x_validation.shape"
      ],
      "metadata": {
        "colab": {
          "base_uri": "https://localhost:8080/"
        },
        "id": "KVTFeCwUJu35",
        "outputId": "9b336148-d6ff-4eaa-f5dc-ecbc15a0813b"
      },
      "execution_count": 16,
      "outputs": [
        {
          "output_type": "execute_result",
          "data": {
            "text/plain": [
              "(3870, 8)"
            ]
          },
          "metadata": {},
          "execution_count": 16
        }
      ]
    },
    {
      "cell_type": "code",
      "source": [
        "sc = StandardScaler()\n",
        "norm_x_train = sc.fit_transform(x_train1)\n",
        "norm_x_validation = sc.transform(x_validation)\n",
        "norm_x_test = sc.transform(x_test)"
      ],
      "metadata": {
        "id": "2oHdXemKJze2"
      },
      "execution_count": 26,
      "outputs": []
    },
    {
      "cell_type": "code",
      "source": [
        "norm_x_train"
      ],
      "metadata": {
        "colab": {
          "base_uri": "https://localhost:8080/"
        },
        "id": "9w9sKEY9KMQC",
        "outputId": "876ec7eb-0d75-4eb2-fb67-d24a54cc5805"
      },
      "execution_count": 27,
      "outputs": [
        {
          "output_type": "execute_result",
          "data": {
            "text/plain": [
              "array([[ 0.83233346,  0.5898803 ,  0.10483514, ..., -0.06178913,\n",
              "        -0.6804164 ,  0.48303068],\n",
              "       [-1.05901029,  0.66930818, -0.15011892, ..., -0.06896777,\n",
              "         1.92915613, -1.02911229],\n",
              "       [ 2.2459212 , -1.07810522,  0.72824681, ..., -0.00629152,\n",
              "        -0.92827902,  0.92573043],\n",
              "       ...,\n",
              "       [-0.21218359,  0.11331301,  0.64601694, ..., -0.03353026,\n",
              "         1.01720874, -0.3178082 ],\n",
              "       [ 0.25116457, -0.44268216,  0.27674394, ...,  0.00558192,\n",
              "        -1.36788443,  1.27392124],\n",
              "       [-0.18973657, -0.44268216, -0.20476808, ...,  0.01155613,\n",
              "        -0.71782962,  0.75163502]])"
            ]
          },
          "metadata": {},
          "execution_count": 27
        }
      ]
    },
    {
      "cell_type": "code",
      "source": [
        "norm_x_test"
      ],
      "metadata": {
        "colab": {
          "base_uri": "https://localhost:8080/"
        },
        "id": "CUQXSKF5LJ1I",
        "outputId": "cccfef4a-952f-445a-c83f-99584317ca55"
      },
      "execution_count": 23,
      "outputs": [
        {
          "output_type": "execute_result",
          "data": {
            "text/plain": [
              "array([[-0.65177967, -0.76039369, -0.1605287 , ..., -0.05911296,\n",
              "        -0.23145768,  0.54769468],\n",
              "       [-0.16488825,  0.19274089, -0.47386451, ..., -0.07756638,\n",
              "         0.99850213, -1.43699296],\n",
              "       [-0.6701027 , -0.60153793,  0.12500266, ...,  0.05818594,\n",
              "         0.01172829, -0.10391956],\n",
              "       ...,\n",
              "       [ 0.47678318, -1.39581674,  0.26303846, ..., -0.03240789,\n",
              "         0.56357338, -0.14371279],\n",
              "       [ 1.7706187 , -0.12497064,  0.85015206, ..., -0.09736879,\n",
              "        -1.29305798,  1.14956738],\n",
              "       [ 1.82579659, -1.07810522,  0.82319922, ..., -0.01155714,\n",
              "        -0.97504555,  0.92075627]])"
            ]
          },
          "metadata": {},
          "execution_count": 23
        }
      ]
    },
    {
      "cell_type": "code",
      "source": [
        "from keras.layers.serialization import activation\n",
        "from keras.api._v2.keras import layers\n",
        "model = keras.models.Sequential([\n",
        "    keras.layers.Dense(50,activation='relu'),\n",
        "    keras.layers.Dense(10,activation='relu'),\n",
        "    keras.layers.Dense(1)\n",
        "])"
      ],
      "metadata": {
        "id": "5uHrZGJGLOT7"
      },
      "execution_count": 24,
      "outputs": []
    },
    {
      "cell_type": "code",
      "source": [
        "model.compile(loss='mean_squared_error',optimizer='sgd',metrics=['mean_absolute_error'])"
      ],
      "metadata": {
        "id": "JQq-Ws74MJ6i"
      },
      "execution_count": 25,
      "outputs": []
    },
    {
      "cell_type": "code",
      "source": [
        "model.fit(norm_x_train,y_train1,epochs=30,validation_data=(norm_x_validation,y_validation))"
      ],
      "metadata": {
        "colab": {
          "base_uri": "https://localhost:8080/"
        },
        "id": "EjRrzzYgM2tJ",
        "outputId": "c87ae94f-f037-4e75-d746-580ead845dc5"
      },
      "execution_count": 29,
      "outputs": [
        {
          "output_type": "stream",
          "name": "stdout",
          "text": [
            "Epoch 1/30\n",
            "363/363 [==============================] - 2s 3ms/step - loss: 0.9618 - mean_absolute_error: 0.6596 - val_loss: 0.5632 - val_mean_absolute_error: 0.5397\n",
            "Epoch 2/30\n",
            "363/363 [==============================] - 1s 2ms/step - loss: 0.5268 - mean_absolute_error: 0.5268 - val_loss: 0.4929 - val_mean_absolute_error: 0.5174\n",
            "Epoch 3/30\n",
            "363/363 [==============================] - 1s 2ms/step - loss: 0.4833 - mean_absolute_error: 0.5018 - val_loss: 0.4743 - val_mean_absolute_error: 0.5031\n",
            "Epoch 4/30\n",
            "363/363 [==============================] - 1s 2ms/step - loss: 0.4415 - mean_absolute_error: 0.4807 - val_loss: 0.4384 - val_mean_absolute_error: 0.4754\n",
            "Epoch 5/30\n",
            "363/363 [==============================] - 1s 2ms/step - loss: 0.4236 - mean_absolute_error: 0.4693 - val_loss: 0.4278 - val_mean_absolute_error: 0.4693\n",
            "Epoch 6/30\n",
            "363/363 [==============================] - 1s 2ms/step - loss: 0.4109 - mean_absolute_error: 0.4623 - val_loss: 0.4179 - val_mean_absolute_error: 0.4671\n",
            "Epoch 7/30\n",
            "363/363 [==============================] - 1s 2ms/step - loss: 0.3998 - mean_absolute_error: 0.4557 - val_loss: 0.4106 - val_mean_absolute_error: 0.4603\n",
            "Epoch 8/30\n",
            "363/363 [==============================] - 1s 2ms/step - loss: 0.3906 - mean_absolute_error: 0.4494 - val_loss: 0.4001 - val_mean_absolute_error: 0.4486\n",
            "Epoch 9/30\n",
            "363/363 [==============================] - 1s 2ms/step - loss: 0.3820 - mean_absolute_error: 0.4430 - val_loss: 0.3962 - val_mean_absolute_error: 0.4401\n",
            "Epoch 10/30\n",
            "363/363 [==============================] - 1s 2ms/step - loss: 0.3746 - mean_absolute_error: 0.4384 - val_loss: 0.4046 - val_mean_absolute_error: 0.4404\n",
            "Epoch 11/30\n",
            "363/363 [==============================] - 1s 2ms/step - loss: 0.3701 - mean_absolute_error: 0.4357 - val_loss: 0.3904 - val_mean_absolute_error: 0.4336\n",
            "Epoch 12/30\n",
            "363/363 [==============================] - 1s 2ms/step - loss: 0.3664 - mean_absolute_error: 0.4322 - val_loss: 0.3820 - val_mean_absolute_error: 0.4425\n",
            "Epoch 13/30\n",
            "363/363 [==============================] - 1s 2ms/step - loss: 0.3595 - mean_absolute_error: 0.4277 - val_loss: 0.3762 - val_mean_absolute_error: 0.4331\n",
            "Epoch 14/30\n",
            "363/363 [==============================] - 1s 2ms/step - loss: 0.3556 - mean_absolute_error: 0.4257 - val_loss: 0.3787 - val_mean_absolute_error: 0.4270\n",
            "Epoch 15/30\n",
            "363/363 [==============================] - 1s 2ms/step - loss: 0.3523 - mean_absolute_error: 0.4231 - val_loss: 0.3721 - val_mean_absolute_error: 0.4209\n",
            "Epoch 16/30\n",
            "363/363 [==============================] - 1s 2ms/step - loss: 0.3480 - mean_absolute_error: 0.4212 - val_loss: 0.3772 - val_mean_absolute_error: 0.4415\n",
            "Epoch 17/30\n",
            "363/363 [==============================] - 1s 2ms/step - loss: 0.3462 - mean_absolute_error: 0.4198 - val_loss: 0.3653 - val_mean_absolute_error: 0.4272\n",
            "Epoch 18/30\n",
            "363/363 [==============================] - 1s 2ms/step - loss: 0.3427 - mean_absolute_error: 0.4179 - val_loss: 0.3685 - val_mean_absolute_error: 0.4211\n",
            "Epoch 19/30\n",
            "363/363 [==============================] - 1s 2ms/step - loss: 0.3385 - mean_absolute_error: 0.4151 - val_loss: 0.3751 - val_mean_absolute_error: 0.4207\n",
            "Epoch 20/30\n",
            "363/363 [==============================] - 1s 2ms/step - loss: 0.3342 - mean_absolute_error: 0.4102 - val_loss: 0.3660 - val_mean_absolute_error: 0.4304\n",
            "Epoch 21/30\n",
            "363/363 [==============================] - 1s 2ms/step - loss: 0.3326 - mean_absolute_error: 0.4110 - val_loss: 0.3564 - val_mean_absolute_error: 0.4215\n",
            "Epoch 22/30\n",
            "363/363 [==============================] - 1s 2ms/step - loss: 0.3329 - mean_absolute_error: 0.4098 - val_loss: 0.3604 - val_mean_absolute_error: 0.4289\n",
            "Epoch 23/30\n",
            "363/363 [==============================] - 1s 2ms/step - loss: 0.3278 - mean_absolute_error: 0.4052 - val_loss: 0.3595 - val_mean_absolute_error: 0.4285\n",
            "Epoch 24/30\n",
            "363/363 [==============================] - 1s 2ms/step - loss: 0.3280 - mean_absolute_error: 0.4062 - val_loss: 0.3487 - val_mean_absolute_error: 0.4113\n",
            "Epoch 25/30\n",
            "363/363 [==============================] - 1s 2ms/step - loss: 0.3230 - mean_absolute_error: 0.4034 - val_loss: 0.3546 - val_mean_absolute_error: 0.4130\n",
            "Epoch 26/30\n",
            "363/363 [==============================] - 1s 2ms/step - loss: 0.3199 - mean_absolute_error: 0.4004 - val_loss: 0.3432 - val_mean_absolute_error: 0.4056\n",
            "Epoch 27/30\n",
            "363/363 [==============================] - 1s 2ms/step - loss: 0.3177 - mean_absolute_error: 0.3987 - val_loss: 0.3405 - val_mean_absolute_error: 0.4056\n",
            "Epoch 28/30\n",
            "363/363 [==============================] - 1s 2ms/step - loss: 0.3159 - mean_absolute_error: 0.3970 - val_loss: 0.3488 - val_mean_absolute_error: 0.4117\n",
            "Epoch 29/30\n",
            "363/363 [==============================] - 1s 2ms/step - loss: 0.3145 - mean_absolute_error: 0.3962 - val_loss: 0.3373 - val_mean_absolute_error: 0.4046\n",
            "Epoch 30/30\n",
            "363/363 [==============================] - 1s 2ms/step - loss: 0.3134 - mean_absolute_error: 0.3953 - val_loss: 0.3505 - val_mean_absolute_error: 0.4101\n"
          ]
        },
        {
          "output_type": "execute_result",
          "data": {
            "text/plain": [
              "<keras.callbacks.History at 0x7fce70e5a310>"
            ]
          },
          "metadata": {},
          "execution_count": 29
        }
      ]
    },
    {
      "cell_type": "code",
      "source": [],
      "metadata": {
        "id": "zAMGC1n2NzFe"
      },
      "execution_count": null,
      "outputs": []
    }
  ]
}